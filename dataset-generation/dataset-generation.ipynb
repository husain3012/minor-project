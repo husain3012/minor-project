{
 "cells": [
  {
   "cell_type": "code",
   "execution_count": 10,
   "metadata": {},
   "outputs": [],
   "source": [
    "import cv2\n",
    "import numpy as np\n",
    "import pandas as pd\n",
    "import os\n",
    "\n"
   ]
  },
  {
   "cell_type": "code",
   "execution_count": 11,
   "metadata": {},
   "outputs": [],
   "source": [
    "image_size = 3500"
   ]
  },
  {
   "cell_type": "code",
   "execution_count": 12,
   "metadata": {},
   "outputs": [],
   "source": [
    "dataset_locs = pd.read_csv('C:\\\\Users\\\\hsr30\\\\Documents\\\\minor-project\\\\localization\\\\testing-boxes.csv')\n",
    "images_root = \"C:\\\\Users\\\\hsr30\\\\Documents\\\\minor-project\\\\datasets\\\\idrid\\\\Disease Grading\\\\Original Images\\\\Testing Set\"\n",
    "images_out_root = f\"C:\\\\Users\\\\hsr30\\\\Documents\\\\minor-project\\\\datasets\\\\disease-grading-custom\\\\cropped-testing-{image_size}\"\n",
    "# create directory if not exists\n",
    "if not os.path.exists(images_out_root):\n",
    "    os.makedirs(images_out_root)"
   ]
  },
  {
   "cell_type": "code",
   "execution_count": 13,
   "metadata": {},
   "outputs": [
    {
     "name": "stdout",
     "output_type": "stream",
     "text": [
      "Processed: 102/102\r"
     ]
    }
   ],
   "source": [
    "\n",
    "testing = False\n",
    "total = len(dataset_locs)\n",
    "processed = 0\n",
    "for index, row in dataset_locs.iterrows():\n",
    "    if testing and index == 3:\n",
    "        break\n",
    "    image_name = row['Image No']\n",
    "    image = cv2.imread(images_root + \"\\\\\" + image_name)\n",
    "    image = cv2.cvtColor(image, cv2.COLOR_BGR2RGB)\n",
    "    x1 = int(row['X1'])\n",
    "    y1 = int(row['Y1'])\n",
    "    x2 = int(row['X2'])\n",
    "    y2 = int(row['Y2'])\n",
    "    center_x = int((x1 + x2) / 2)\n",
    "    center_y = int((y1 + y2) / 2)\n",
    "    \n",
    "    # Calculate the top-left corner coordinates of the cropped image\n",
    "    crop_size = image_size // 2\n",
    "    crop_x = max(center_x - crop_size, 0)\n",
    "    crop_y = max(center_y - crop_size, 0)\n",
    "    \n",
    "    # Crop the image\n",
    "    cropped_image = image[crop_y:crop_y+image_size, crop_x:crop_x+image_size]\n",
    "    cropped_image = cv2.cvtColor(cropped_image, cv2.COLOR_RGB2BGR)\n",
    "    \n",
    "    # Save the cropped image\n",
    "    write_path = images_out_root + \"\\\\\" + image_name\n",
    "    cv2.imwrite(write_path, cropped_image)\n",
    "    # progress\n",
    "    processed += 1\n",
    "    print(\"Processed: \" + str(processed) + \"/\" + str(total), end=\"\\r\")\n"
   ]
  }
 ],
 "metadata": {
  "kernelspec": {
   "display_name": "deeplearning",
   "language": "python",
   "name": "python3"
  },
  "language_info": {
   "codemirror_mode": {
    "name": "ipython",
    "version": 3
   },
   "file_extension": ".py",
   "mimetype": "text/x-python",
   "name": "python",
   "nbconvert_exporter": "python",
   "pygments_lexer": "ipython3",
   "version": "3.11.5"
  }
 },
 "nbformat": 4,
 "nbformat_minor": 2
}
