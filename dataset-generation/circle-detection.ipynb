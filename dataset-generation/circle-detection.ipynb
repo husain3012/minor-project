{
 "cells": [
  {
   "cell_type": "code",
   "execution_count": 1,
   "metadata": {},
   "outputs": [],
   "source": [
    "import cv2\n",
    "import numpy as np\n",
    "from matplotlib import pyplot as plt\n",
    "import os"
   ]
  },
  {
   "cell_type": "code",
   "execution_count": 5,
   "metadata": {},
   "outputs": [],
   "source": [
    "src_dir_training = \"C:\\\\Users\\\\hsr30\\\\Documents\\\\minor-project\\\\datasets\\\\disease-grading-custom\\\\rendered-training-3500\"\n",
    "\n",
    "out_dir_training = \"C:\\\\Users\\\\hsr30\\\\Documents\\\\minor-project\\\\datasets\\\\disease-grading-custom\\\\final-training\"\n",
    "\n",
    "src_dir_test= \"C:\\\\Users\\\\hsr30\\\\Documents\\\\minor-project\\\\datasets\\\\disease-grading-custom\\\\rendered-testing-3500\"\n",
    "\n",
    "out_dir_test = \"C:\\\\Users\\\\hsr30\\\\Documents\\\\minor-project\\\\datasets\\\\disease-grading-custom\\\\final-testing\""
   ]
  },
  {
   "cell_type": "code",
   "execution_count": 6,
   "metadata": {},
   "outputs": [],
   "source": [
    "def circular_crop(path, out_dir):\n",
    "    image = cv2.imread(path)\n",
    "    base_name = os.path.basename(path)\n",
    "    gray = cv2.cvtColor(image, cv2.COLOR_BGR2GRAY)\n",
    "    blur = cv2.medianBlur(gray, 11)\n",
    "    thresh = cv2.threshold(blur, 0, 255, cv2.THRESH_BINARY + cv2.THRESH_OTSU)[1]\n",
    "\n",
    "    # Morph open \n",
    "    kernel = cv2.getStructuringElement(cv2.MORPH_ELLIPSE, (5,5))\n",
    "    opening = cv2.morphologyEx(thresh, cv2.MORPH_OPEN, kernel, iterations=3)\n",
    "\n",
    "    # Find contours and filter using contour area and aspect ratio\n",
    "    cnts = cv2.findContours(opening, cv2.RETR_EXTERNAL, cv2.CHAIN_APPROX_SIMPLE)\n",
    "    cnts = cnts[0] if len(cnts) == 2 else cnts[1]\n",
    "    for c in cnts:\n",
    "        peri = cv2.arcLength(c, True)\n",
    "        approx = cv2.approxPolyDP(c, 0.04 * peri, True)\n",
    "        area = cv2.contourArea(c)\n",
    "        if len(approx) > 5 and area > 1000:\n",
    "            ((x, y), r) = cv2.minEnclosingCircle(c)\n",
    "            # crop ROI\n",
    "            x,y,r = int(x), int(y), int(r)\n",
    "            ROI = image[y-r:y+r, x-r:x+r]\n",
    "            cv2.imwrite(os.path.join(out_dir, base_name), ROI)\n",
    "            break\n",
    "\n"
   ]
  },
  {
   "cell_type": "code",
   "execution_count": 7,
   "metadata": {},
   "outputs": [],
   "source": [
    "progress = 0\n",
    "total = len(os.listdir(src_dir_training))\n",
    "for image in os.listdir(src_dir_training):\n",
    "    circular_crop(os.path.join(src_dir_training, image), out_dir_training)\n",
    "    progress += 1\n",
    "    print(f\"Progress: {progress}/{total}\", end=\"\\r\")"
   ]
  },
  {
   "cell_type": "code",
   "execution_count": 8,
   "metadata": {},
   "outputs": [
    {
     "name": "stdout",
     "output_type": "stream",
     "text": [
      "Progress: 102/102\r"
     ]
    }
   ],
   "source": [
    "progress = 0\n",
    "total = len(os.listdir(src_dir_test))\n",
    "for image in os.listdir(src_dir_test):\n",
    "    circular_crop(os.path.join(src_dir_test, image), out_dir_test)\n",
    "    progress += 1\n",
    "    print(f\"Progress: {progress}/{total}\", end=\"\\r\")"
   ]
  }
 ],
 "metadata": {
  "kernelspec": {
   "display_name": "deeplearning",
   "language": "python",
   "name": "python3"
  },
  "language_info": {
   "codemirror_mode": {
    "name": "ipython",
    "version": 3
   },
   "file_extension": ".py",
   "mimetype": "text/x-python",
   "name": "python",
   "nbconvert_exporter": "python",
   "pygments_lexer": "ipython3",
   "version": "3.11.5"
  }
 },
 "nbformat": 4,
 "nbformat_minor": 2
}
