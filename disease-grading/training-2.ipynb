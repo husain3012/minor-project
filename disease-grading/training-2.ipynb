{
 "cells": [
  {
   "cell_type": "code",
   "execution_count": 1,
   "metadata": {},
   "outputs": [],
   "source": [
    "import pandas as pd #For reading csv files.\n",
    "import numpy as np \n",
    "import matplotlib.pyplot as plt #For plotting.\n",
    "\n",
    "import PIL.Image as Image #For working with image files.\n",
    "\n",
    "#Importing torch\n",
    "import torch\n",
    "import torch.nn as nn\n",
    "import torch.nn.functional as F\n",
    "\n",
    "from torch.utils.data import Dataset,DataLoader #For working with data.\n",
    "\n",
    "from torchvision import models,transforms\n",
    "import os"
   ]
  },
  {
   "cell_type": "code",
   "execution_count": 2,
   "metadata": {},
   "outputs": [
    {
     "name": "stdout",
     "output_type": "stream",
     "text": [
      "cpu\n"
     ]
    }
   ],
   "source": [
    "device = torch.device('cuda' if torch.cuda.is_available() else 'cpu') #Use GPU if it's available or else use CPU.\n",
    "print(device) #"
   ]
  },
  {
   "cell_type": "code",
   "execution_count": 3,
   "metadata": {},
   "outputs": [],
   "source": [
    "base_path = \"C:\\\\Users\\\\hsr30\\\\Documents\\\\minor-project\\\\datasets\\\\disease-grading-custom\""
   ]
  },
  {
   "cell_type": "code",
   "execution_count": 4,
   "metadata": {},
   "outputs": [
    {
     "name": "stdout",
     "output_type": "stream",
     "text": [
      "No.of.training_samples: 413\n",
      "No.of.testing_samples: 102\n"
     ]
    }
   ],
   "source": [
    "train_df = pd.read_csv(os.path.join(base_path,\"groundtruths\", \"idrid-train.csv\"))\n",
    "print(f'No.of.training_samples: {len(train_df)}')\n",
    "\n",
    "test_df = pd.read_csv(os.path.join(base_path,\"groundtruths\", \"idrid-test.csv\"))\n",
    "print(f'No.of.testing_samples: {len(test_df)}')"
   ]
  },
  {
   "cell_type": "code",
   "execution_count": 5,
   "metadata": {},
   "outputs": [
    {
     "data": {
      "text/plain": [
       "<Axes: xlabel='diagnosis'>"
      ]
     },
     "execution_count": 5,
     "metadata": {},
     "output_type": "execute_result"
    },
    {
     "data": {
      "image/png": "[encoded data removed]",
      "text/plain": [
       "<Figure size 640x480 with 1 Axes>"
      ]
     },
     "metadata": {},
     "output_type": "display_data"
    }
   ],
   "source": [
    "train_df['diagnosis'].value_counts().plot(kind='bar')\n",
    "\n"
   ]
  },
  {
   "cell_type": "markdown",
   "metadata": {},
   "source": [
    "### Balancing the dataset"
   ]
  },
  {
   "cell_type": "code",
   "execution_count": 6,
   "metadata": {},
   "outputs": [
    {
     "name": "stdout",
     "output_type": "stream",
     "text": [
      "tensor([1.3409, 0.7973])\n"
     ]
    }
   ],
   "source": [
    "from sklearn.utils import class_weight #For calculating weights for each class.\n",
    "class_weights = class_weight.compute_class_weight(class_weight='balanced',classes=np.array([0,1]),y=train_df['diagnosis'].values)\n",
    "class_weights = torch.tensor(class_weights,dtype=torch.float).to(device)\n",
    "print(class_weights)"
   ]
  },
  {
   "cell_type": "markdown",
   "metadata": {},
   "source": [
    "### Dataset"
   ]
  },
  {
   "cell_type": "code",
   "execution_count": 7,
   "metadata": {},
   "outputs": [],
   "source": [
    "class CustomDataset(Dataset): # Inherits from the Dataset class.\n",
    "    '''\n",
    "    dataset class overloads the __init__, __len__, __getitem__ methods of the Dataset class. \n",
    "    \n",
    "    Attributes :\n",
    "        df:  DataFrame object for the csv file.\n",
    "        data_path: Location of the dataset.\n",
    "        image_transform: Transformations to apply to the image.\n",
    "        train: A boolean indicating whether it is a training_set or not.\n",
    "    '''\n",
    "    \n",
    "    def __init__(self,df,data_path,image_transform=None,train=True): # Constructor.\n",
    "        super(Dataset,self).__init__() #Calls the constructor of the Dataset class.\n",
    "        self.df = df\n",
    "        self.data_path = data_path\n",
    "        self.image_transform = image_transform\n",
    "        self.train = train\n",
    "        \n",
    "    def __len__(self):\n",
    "        return len(self.df) #Returns the number of samples in the dataset.\n",
    "    \n",
    "    def __getitem__(self,index):\n",
    "        image_id = self.df['Image name'][index]\n",
    "        image = Image.open(f'{self.data_path}/{image_id}.png') #Image.\n",
    "        if self.image_transform :\n",
    "            image = self.image_transform(image) #Applies transformation to the image.\n",
    "        \n",
    "        if self.train :\n",
    "            label = self.df['diagnosis'][index] #Label.\n",
    "            return image,label #If train == True, return image & label.\n",
    "        \n",
    "        else:\n",
    "            return image #If train != True, return image."
   ]
  },
  {
   "cell_type": "code",
   "execution_count": 8,
   "metadata": {},
   "outputs": [],
   "source": [
    "image_transform = transforms.Compose([transforms.Resize([512,512]),\n",
    "                                      transforms.ToTensor(),\n",
    "                                      transforms.Normalize((0.485, 0.456, 0.406), (0.229, 0.224, 0.225))]) "
   ]
  },
  {
   "cell_type": "code",
   "execution_count": 9,
   "metadata": {},
   "outputs": [
    {
     "name": "stdout",
     "output_type": "stream",
     "text": [
      "No.of.samples in the dataset: 413\n",
      "No.of.samples in the training_set: 330\n"
     ]
    }
   ],
   "source": [
    "#Transformations to apply to the image.\n",
    "data_set = CustomDataset(train_df,os.path.join(base_path, 'final-training'),image_transform=image_transform)\n",
    "print(f'No.of.samples in the dataset: {len(data_set)}')\n",
    "#Split the data_set so that valid_set contains 0.1 samples of the data_set. \n",
    "split_ratio = 0.2\n",
    "train_num = int(len(data_set)*(1-split_ratio))\n",
    "valid_num = len(data_set) - train_num\n",
    "print(f'No.of.samples in the training_set: {train_num}')\n",
    "\n",
    "train_set,valid_set = torch.utils.data.random_split(data_set,[train_num,valid_num])"
   ]
  },
  {
   "cell_type": "code",
   "execution_count": 10,
   "metadata": {},
   "outputs": [],
   "source": [
    "train_dataloader = DataLoader(train_set,batch_size=32,shuffle=True) #DataLoader for train_set.\n",
    "valid_dataloader = DataLoader(valid_set,batch_size=8,shuffle=False) "
   ]
  },
  {
   "cell_type": "code",
   "execution_count": 11,
   "metadata": {},
   "outputs": [],
   "source": [
    "#Since we've less data, we'll use Transfer learning.\n",
    "model = models.resnet34(weights=models.ResNet34_Weights.IMAGENET1K_V1) #Downloads the resnet34 model which is pretrained on Imagenet dataset.\n",
    "\n",
    "#Replace the Final layer of pretrained resnet34 with 4 new layers.\n",
    "model.fc = nn.Sequential(nn.Linear(512,256),\n",
    "                         nn.ReLU(inplace=True),\n",
    "                         nn.Linear(256,128),\n",
    "                         nn.ReLU(inplace=True),\n",
    "                         nn.Linear(128,64),\n",
    "                         nn.ReLU(inplace=True),\n",
    "                         nn.Linear(64,2),    \n",
    "                    )"
   ]
  },
  {
   "cell_type": "code",
   "execution_count": 12,
   "metadata": {},
   "outputs": [],
   "source": [
    "model = model.to(device)"
   ]
  },
  {
   "cell_type": "markdown",
   "metadata": {},
   "source": [
    "### Training and Validations\n",
    "Helper functions for training and validation"
   ]
  },
  {
   "cell_type": "code",
   "execution_count": 13,
   "metadata": {},
   "outputs": [],
   "source": [
    "def train(dataloader,model,loss_fn,optimizer):\n",
    "    '''\n",
    "    train function updates the weights of the model based on the\n",
    "    loss using the optimizer in order to get a lower loss.\n",
    "    \n",
    "    Args :\n",
    "         dataloader: Iterator for the batches in the data_set.\n",
    "         model: Given an input produces an output by multiplying the input with the model weights.\n",
    "         loss_fn: Calculates the discrepancy between the label & the model's predictions.\n",
    "         optimizer: Updates the model weights.\n",
    "         \n",
    "    Returns :\n",
    "         Average loss per batch which is calculated by dividing the losses for all the batches\n",
    "         with the number of batches.\n",
    "    '''\n",
    "\n",
    "    model.train() #Sets the model for training.\n",
    "    \n",
    "    total = 0\n",
    "    correct = 0\n",
    "    running_loss = 0\n",
    "    \n",
    "    for batch,(x,y) in enumerate(dataloader): #Iterates through the batches.\n",
    "        \n",
    "        output = model(x.to(device)) #model's predictions.\n",
    "        loss   = loss_fn(output,y.to(device)) #loss calculation.\n",
    "       \n",
    "        running_loss += loss.item()\n",
    "        \n",
    "        total        += y.size(0)\n",
    "        predictions   = output.argmax(dim=1).cpu().detach() #Index for the highest score for all the samples in the batch.\n",
    "        correct      += (predictions == y.cpu().detach()).sum().item() #No.of.cases where model's predictions are equal to the label.\n",
    "        \n",
    "        optimizer.zero_grad() #Gradient values are set to zero.\n",
    "        loss.backward() #Calculates the gradients.\n",
    "        optimizer.step() #Updates the model weights.\n",
    "             \n",
    "    \n",
    "    avg_loss = running_loss/len(dataloader) # Average loss for a single batch\n",
    "    \n",
    "    print(f'\\nTraining Loss = {avg_loss:.6f}',end='\\t')\n",
    "    print(f'Accuracy on Training set = {100*(correct/total):.6f}% [{correct}/{total}]') #Prints the Accuracy.\n",
    "    \n",
    "    return avg_loss"
   ]
  },
  {
   "cell_type": "code",
   "execution_count": 14,
   "metadata": {},
   "outputs": [],
   "source": [
    "def validate(dataloader,model,loss_fn):\n",
    "    '''\n",
    "    validate function calculates the average loss per batch and the accuracy of the model's predictions.\n",
    "    \n",
    "    Args :\n",
    "         dataloader: Iterator for the batches in the data_set.\n",
    "         model: Given an input produces an output by multiplying the input with the model weights.\n",
    "         loss_fn: Calculates the discrepancy between the label & the model's predictions.\n",
    "    \n",
    "    Returns :\n",
    "         Average loss per batch which is calculated by dividing the losses for all the batches\n",
    "         with the number of batches.\n",
    "    '''\n",
    "    \n",
    "    model.eval() #Sets the model for evaluation.\n",
    "    \n",
    "    total = 0\n",
    "    correct = 0\n",
    "    running_loss = 0\n",
    "    \n",
    "    with torch.no_grad(): #No need to calculate the gradients.\n",
    "        \n",
    "        for x,y in dataloader:\n",
    "            \n",
    "            output        = model(x.to(device)) #model's output.\n",
    "            loss          = loss_fn(output,y.to(device)).item() #loss calculation.\n",
    "            running_loss += loss\n",
    "            \n",
    "            total        += y.size(0)\n",
    "            predictions   = output.argmax(dim=1).cpu().detach()\n",
    "            correct      += (predictions == y.cpu().detach()).sum().item()\n",
    "            \n",
    "    avg_loss = running_loss/len(dataloader) #Average loss per batch.      \n",
    "    \n",
    "    print(f'\\nValidation Loss = {avg_loss:.6f}',end='\\t')\n",
    "    print(f'Accuracy on Validation set = {100*(correct/total):.6f}% [{correct}/{total}]') #Prints the Accuracy.\n",
    "    \n",
    "    return avg_loss"
   ]
  },
  {
   "cell_type": "markdown",
   "metadata": {},
   "source": [
    "### Optimizing the model"
   ]
  },
  {
   "cell_type": "code",
   "execution_count": 15,
   "metadata": {},
   "outputs": [],
   "source": [
    "def optimize(train_dataloader,valid_dataloader,model,loss_fn,optimizer,nb_epochs):\n",
    "    '''\n",
    "    optimize function calls the train & validate functions for (nb_epochs) times.\n",
    "    \n",
    "    Args :\n",
    "        train_dataloader: DataLoader for the train_set.\n",
    "        valid_dataloader: DataLoader for the valid_set.\n",
    "        model: Given an input produces an output by multiplying the input with the model weights.\n",
    "        loss_fn: Calculates the discrepancy between the label & the model's predictions.\n",
    "        optimizer: Updates the model weights.\n",
    "        nb_epochs: Number of epochs.\n",
    "        \n",
    "    Returns :\n",
    "        Tuple of lists containing losses for all the epochs.\n",
    "    '''\n",
    "    #Lists to store losses for all the epochs.\n",
    "    train_losses = []\n",
    "    valid_losses = []\n",
    "\n",
    "    for epoch in range(nb_epochs):\n",
    "        print(f'\\nEpoch {epoch+1}/{nb_epochs}')\n",
    "        print('-------------------------------')\n",
    "        train_loss = train(train_dataloader,model,loss_fn,optimizer) #Calls the train function.\n",
    "        train_losses.append(train_loss)\n",
    "        valid_loss = validate(valid_dataloader,model,loss_fn) #Calls the validate function.\n",
    "        valid_losses.append(valid_loss)\n",
    "    \n",
    "    print('\\nTraining has completed!')\n",
    "    \n",
    "    return train_losses,valid_losses"
   ]
  },
  {
   "cell_type": "markdown",
   "metadata": {},
   "source": [
    "### Train the model"
   ]
  },
  {
   "cell_type": "code",
   "execution_count": 16,
   "metadata": {},
   "outputs": [
    {
     "name": "stdout",
     "output_type": "stream",
     "text": [
      "\n",
      "Epoch 1/60\n",
      "-------------------------------\n"
     ]
    },
    {
     "name": "stdout",
     "output_type": "stream",
     "text": [
      "\n",
      "Training Loss = 0.692976\tAccuracy on Training set = 38.181818% [126/330]\n",
      "\n",
      "Validation Loss = 0.693450\tAccuracy on Validation set = 36.144578% [30/83]\n",
      "\n",
      "Epoch 2/60\n",
      "-------------------------------\n",
      "\n",
      "Training Loss = 0.692990\tAccuracy on Training set = 38.181818% [126/330]\n",
      "\n",
      "Validation Loss = 0.693504\tAccuracy on Validation set = 34.939759% [29/83]\n",
      "\n",
      "Epoch 3/60\n",
      "-------------------------------\n",
      "\n",
      "Training Loss = 0.694222\tAccuracy on Training set = 39.090909% [129/330]\n",
      "\n",
      "Validation Loss = 0.693797\tAccuracy on Validation set = 37.349398% [31/83]\n",
      "\n",
      "Epoch 4/60\n",
      "-------------------------------\n",
      "\n",
      "Training Loss = 0.692965\tAccuracy on Training set = 38.484848% [127/330]\n",
      "\n",
      "Validation Loss = 0.693939\tAccuracy on Validation set = 37.349398% [31/83]\n",
      "\n",
      "Epoch 5/60\n",
      "-------------------------------\n",
      "\n",
      "Training Loss = 0.691739\tAccuracy on Training set = 38.787879% [128/330]\n",
      "\n",
      "Validation Loss = 0.693139\tAccuracy on Validation set = 37.349398% [31/83]\n",
      "\n",
      "Epoch 6/60\n",
      "-------------------------------\n",
      "\n",
      "Training Loss = 0.691575\tAccuracy on Training set = 40.909091% [135/330]\n",
      "\n",
      "Validation Loss = 0.692573\tAccuracy on Validation set = 38.554217% [32/83]\n",
      "\n",
      "Epoch 7/60\n",
      "-------------------------------\n",
      "\n",
      "Training Loss = 0.691314\tAccuracy on Training set = 41.212121% [136/330]\n",
      "\n",
      "Validation Loss = 0.691925\tAccuracy on Validation set = 40.963855% [34/83]\n",
      "\n",
      "Epoch 8/60\n",
      "-------------------------------\n",
      "\n",
      "Training Loss = 0.691055\tAccuracy on Training set = 42.727273% [141/330]\n",
      "\n",
      "Validation Loss = 0.691459\tAccuracy on Validation set = 43.373494% [36/83]\n",
      "\n",
      "Epoch 9/60\n",
      "-------------------------------\n",
      "\n",
      "Training Loss = 0.690641\tAccuracy on Training set = 48.484848% [160/330]\n",
      "\n",
      "Validation Loss = 0.690916\tAccuracy on Validation set = 45.783133% [38/83]\n",
      "\n",
      "Epoch 10/60\n",
      "-------------------------------\n",
      "\n",
      "Training Loss = 0.690887\tAccuracy on Training set = 46.969697% [155/330]\n",
      "\n",
      "Validation Loss = 0.690465\tAccuracy on Validation set = 50.602410% [42/83]\n",
      "\n",
      "Epoch 11/60\n",
      "-------------------------------\n",
      "\n",
      "Training Loss = 0.689169\tAccuracy on Training set = 54.242424% [179/330]\n",
      "\n",
      "Validation Loss = 0.690154\tAccuracy on Validation set = 51.807229% [43/83]\n",
      "\n",
      "Epoch 12/60\n",
      "-------------------------------\n",
      "\n",
      "Training Loss = 0.689242\tAccuracy on Training set = 56.969697% [188/330]\n",
      "\n",
      "Validation Loss = 0.689753\tAccuracy on Validation set = 55.421687% [46/83]\n",
      "\n",
      "Epoch 13/60\n",
      "-------------------------------\n",
      "\n",
      "Training Loss = 0.689226\tAccuracy on Training set = 60.000000% [198/330]\n",
      "\n",
      "Validation Loss = 0.689447\tAccuracy on Validation set = 61.445783% [51/83]\n",
      "\n",
      "Epoch 14/60\n",
      "-------------------------------\n",
      "\n",
      "Training Loss = 0.688351\tAccuracy on Training set = 61.515152% [203/330]\n",
      "\n",
      "Validation Loss = 0.688960\tAccuracy on Validation set = 60.240964% [50/83]\n",
      "\n",
      "Epoch 15/60\n",
      "-------------------------------\n",
      "\n",
      "Training Loss = 0.688101\tAccuracy on Training set = 63.030303% [208/330]\n",
      "\n",
      "Validation Loss = 0.688580\tAccuracy on Validation set = 67.469880% [56/83]\n",
      "\n",
      "Epoch 16/60\n",
      "-------------------------------\n",
      "\n",
      "Training Loss = 0.687834\tAccuracy on Training set = 64.545455% [213/330]\n",
      "\n",
      "Validation Loss = 0.688525\tAccuracy on Validation set = 66.265060% [55/83]\n",
      "\n",
      "Epoch 17/60\n",
      "-------------------------------\n",
      "\n",
      "Training Loss = 0.687143\tAccuracy on Training set = 64.848485% [214/330]\n",
      "\n",
      "Validation Loss = 0.688068\tAccuracy on Validation set = 66.265060% [55/83]\n",
      "\n",
      "Epoch 18/60\n",
      "-------------------------------\n",
      "\n",
      "Training Loss = 0.687554\tAccuracy on Training set = 66.363636% [219/330]\n",
      "\n",
      "Validation Loss = 0.687639\tAccuracy on Validation set = 67.469880% [56/83]\n",
      "\n",
      "Epoch 19/60\n",
      "-------------------------------\n",
      "\n",
      "Training Loss = 0.686803\tAccuracy on Training set = 68.484848% [226/330]\n",
      "\n",
      "Validation Loss = 0.687192\tAccuracy on Validation set = 67.469880% [56/83]\n",
      "\n",
      "Epoch 20/60\n",
      "-------------------------------\n",
      "\n",
      "Training Loss = 0.686130\tAccuracy on Training set = 70.303030% [232/330]\n",
      "\n",
      "Validation Loss = 0.686863\tAccuracy on Validation set = 67.469880% [56/83]\n",
      "\n",
      "Epoch 21/60\n",
      "-------------------------------\n",
      "\n",
      "Training Loss = 0.685951\tAccuracy on Training set = 71.818182% [237/330]\n",
      "\n",
      "Validation Loss = 0.686062\tAccuracy on Validation set = 67.469880% [56/83]\n",
      "\n",
      "Epoch 22/60\n",
      "-------------------------------\n",
      "\n",
      "Training Loss = 0.686186\tAccuracy on Training set = 69.696970% [230/330]\n",
      "\n",
      "Validation Loss = 0.685975\tAccuracy on Validation set = 68.674699% [57/83]\n",
      "\n",
      "Epoch 23/60\n",
      "-------------------------------\n",
      "\n",
      "Training Loss = 0.685163\tAccuracy on Training set = 72.424242% [239/330]\n",
      "\n",
      "Validation Loss = 0.685845\tAccuracy on Validation set = 69.879518% [58/83]\n",
      "\n",
      "Epoch 24/60\n",
      "-------------------------------\n",
      "\n",
      "Training Loss = 0.684790\tAccuracy on Training set = 70.909091% [234/330]\n",
      "\n",
      "Validation Loss = 0.685380\tAccuracy on Validation set = 69.879518% [58/83]\n",
      "\n",
      "Epoch 25/60\n",
      "-------------------------------\n",
      "\n",
      "Training Loss = 0.684314\tAccuracy on Training set = 71.515152% [236/330]\n",
      "\n",
      "Validation Loss = 0.685110\tAccuracy on Validation set = 69.879518% [58/83]\n",
      "\n",
      "Epoch 26/60\n",
      "-------------------------------\n",
      "\n",
      "Training Loss = 0.683902\tAccuracy on Training set = 73.030303% [241/330]\n",
      "\n",
      "Validation Loss = 0.684695\tAccuracy on Validation set = 68.674699% [57/83]\n",
      "\n",
      "Epoch 27/60\n",
      "-------------------------------\n",
      "\n",
      "Training Loss = 0.683402\tAccuracy on Training set = 73.939394% [244/330]\n",
      "\n",
      "Validation Loss = 0.684142\tAccuracy on Validation set = 72.289157% [60/83]\n",
      "\n",
      "Epoch 28/60\n",
      "-------------------------------\n",
      "\n",
      "Training Loss = 0.683594\tAccuracy on Training set = 72.424242% [239/330]\n",
      "\n",
      "Validation Loss = 0.683733\tAccuracy on Validation set = 72.289157% [60/83]\n",
      "\n",
      "Epoch 29/60\n",
      "-------------------------------\n",
      "\n",
      "Training Loss = 0.682751\tAccuracy on Training set = 73.636364% [243/330]\n",
      "\n",
      "Validation Loss = 0.683236\tAccuracy on Validation set = 73.493976% [61/83]\n",
      "\n",
      "Epoch 30/60\n",
      "-------------------------------\n",
      "\n",
      "Training Loss = 0.682648\tAccuracy on Training set = 74.545455% [246/330]\n",
      "\n",
      "Validation Loss = 0.682972\tAccuracy on Validation set = 73.493976% [61/83]\n",
      "\n",
      "Epoch 31/60\n",
      "-------------------------------\n",
      "\n",
      "Training Loss = 0.682491\tAccuracy on Training set = 76.666667% [253/330]\n",
      "\n",
      "Validation Loss = 0.682704\tAccuracy on Validation set = 74.698795% [62/83]\n",
      "\n",
      "Epoch 32/60\n",
      "-------------------------------\n",
      "\n",
      "Training Loss = 0.681406\tAccuracy on Training set = 74.242424% [245/330]\n",
      "\n",
      "Validation Loss = 0.682191\tAccuracy on Validation set = 74.698795% [62/83]\n",
      "\n",
      "Epoch 33/60\n",
      "-------------------------------\n",
      "\n",
      "Training Loss = 0.681511\tAccuracy on Training set = 74.848485% [247/330]\n",
      "\n",
      "Validation Loss = 0.681543\tAccuracy on Validation set = 74.698795% [62/83]\n",
      "\n",
      "Epoch 34/60\n",
      "-------------------------------\n",
      "\n",
      "Training Loss = 0.680020\tAccuracy on Training set = 73.636364% [243/330]\n",
      "\n",
      "Validation Loss = 0.681099\tAccuracy on Validation set = 74.698795% [62/83]\n",
      "\n",
      "Epoch 35/60\n",
      "-------------------------------\n",
      "\n",
      "Training Loss = 0.679562\tAccuracy on Training set = 73.636364% [243/330]\n",
      "\n",
      "Validation Loss = 0.681203\tAccuracy on Validation set = 73.493976% [61/83]\n",
      "\n",
      "Epoch 36/60\n",
      "-------------------------------\n",
      "\n",
      "Training Loss = 0.679441\tAccuracy on Training set = 75.151515% [248/330]\n",
      "\n",
      "Validation Loss = 0.680538\tAccuracy on Validation set = 73.493976% [61/83]\n",
      "\n",
      "Epoch 37/60\n",
      "-------------------------------\n",
      "\n",
      "Training Loss = 0.679322\tAccuracy on Training set = 75.454545% [249/330]\n",
      "\n",
      "Validation Loss = 0.680153\tAccuracy on Validation set = 73.493976% [61/83]\n",
      "\n",
      "Epoch 38/60\n",
      "-------------------------------\n",
      "\n",
      "Training Loss = 0.678833\tAccuracy on Training set = 75.151515% [248/330]\n",
      "\n",
      "Validation Loss = 0.679370\tAccuracy on Validation set = 74.698795% [62/83]\n",
      "\n",
      "Epoch 39/60\n",
      "-------------------------------\n",
      "\n",
      "Training Loss = 0.680094\tAccuracy on Training set = 74.848485% [247/330]\n",
      "\n",
      "Validation Loss = 0.678707\tAccuracy on Validation set = 73.493976% [61/83]\n",
      "\n",
      "Epoch 40/60\n",
      "-------------------------------\n",
      "\n",
      "Training Loss = 0.677981\tAccuracy on Training set = 76.060606% [251/330]\n",
      "\n",
      "Validation Loss = 0.678642\tAccuracy on Validation set = 74.698795% [62/83]\n",
      "\n",
      "Epoch 41/60\n",
      "-------------------------------\n",
      "\n",
      "Training Loss = 0.677695\tAccuracy on Training set = 75.757576% [250/330]\n",
      "\n",
      "Validation Loss = 0.678288\tAccuracy on Validation set = 74.698795% [62/83]\n",
      "\n",
      "Epoch 42/60\n",
      "-------------------------------\n",
      "\n",
      "Training Loss = 0.676449\tAccuracy on Training set = 76.060606% [251/330]\n",
      "\n",
      "Validation Loss = 0.677460\tAccuracy on Validation set = 74.698795% [62/83]\n",
      "\n",
      "Epoch 43/60\n",
      "-------------------------------\n",
      "\n",
      "Training Loss = 0.675856\tAccuracy on Training set = 76.363636% [252/330]\n",
      "\n",
      "Validation Loss = 0.676933\tAccuracy on Validation set = 74.698795% [62/83]\n",
      "\n",
      "Epoch 44/60\n",
      "-------------------------------\n",
      "\n",
      "Training Loss = 0.675459\tAccuracy on Training set = 76.363636% [252/330]\n",
      "\n",
      "Validation Loss = 0.676264\tAccuracy on Validation set = 74.698795% [62/83]\n",
      "\n",
      "Epoch 45/60\n",
      "-------------------------------\n",
      "\n",
      "Training Loss = 0.674597\tAccuracy on Training set = 74.242424% [245/330]\n",
      "\n",
      "Validation Loss = 0.675960\tAccuracy on Validation set = 74.698795% [62/83]\n",
      "\n",
      "Epoch 46/60\n",
      "-------------------------------\n",
      "\n",
      "Training Loss = 0.673893\tAccuracy on Training set = 75.151515% [248/330]\n",
      "\n",
      "Validation Loss = 0.675249\tAccuracy on Validation set = 74.698795% [62/83]\n",
      "\n",
      "Epoch 47/60\n",
      "-------------------------------\n",
      "\n",
      "Training Loss = 0.673080\tAccuracy on Training set = 73.939394% [244/330]\n",
      "\n",
      "Validation Loss = 0.674557\tAccuracy on Validation set = 74.698795% [62/83]\n",
      "\n",
      "Epoch 48/60\n",
      "-------------------------------\n",
      "\n",
      "Training Loss = 0.672584\tAccuracy on Training set = 74.848485% [247/330]\n",
      "\n",
      "Validation Loss = 0.673949\tAccuracy on Validation set = 74.698795% [62/83]\n",
      "\n",
      "Epoch 49/60\n",
      "-------------------------------\n",
      "\n",
      "Training Loss = 0.672024\tAccuracy on Training set = 74.848485% [247/330]\n",
      "\n",
      "Validation Loss = 0.674085\tAccuracy on Validation set = 74.698795% [62/83]\n",
      "\n",
      "Epoch 50/60\n",
      "-------------------------------\n",
      "\n",
      "Training Loss = 0.671915\tAccuracy on Training set = 75.151515% [248/330]\n",
      "\n",
      "Validation Loss = 0.672969\tAccuracy on Validation set = 75.903614% [63/83]\n",
      "\n",
      "Epoch 51/60\n",
      "-------------------------------\n",
      "\n",
      "Training Loss = 0.670175\tAccuracy on Training set = 75.454545% [249/330]\n",
      "\n",
      "Validation Loss = 0.672477\tAccuracy on Validation set = 75.903614% [63/83]\n",
      "\n",
      "Epoch 52/60\n",
      "-------------------------------\n",
      "\n",
      "Training Loss = 0.669890\tAccuracy on Training set = 76.666667% [253/330]\n",
      "\n",
      "Validation Loss = 0.672149\tAccuracy on Validation set = 75.903614% [63/83]\n",
      "\n",
      "Epoch 53/60\n",
      "-------------------------------\n",
      "\n",
      "Training Loss = 0.669836\tAccuracy on Training set = 74.545455% [246/330]\n",
      "\n",
      "Validation Loss = 0.671213\tAccuracy on Validation set = 75.903614% [63/83]\n",
      "\n",
      "Epoch 54/60\n",
      "-------------------------------\n",
      "\n",
      "Training Loss = 0.669144\tAccuracy on Training set = 73.636364% [243/330]\n",
      "\n",
      "Validation Loss = 0.670880\tAccuracy on Validation set = 74.698795% [62/83]\n",
      "\n",
      "Epoch 55/60\n",
      "-------------------------------\n",
      "\n",
      "Training Loss = 0.668022\tAccuracy on Training set = 75.151515% [248/330]\n",
      "\n",
      "Validation Loss = 0.670617\tAccuracy on Validation set = 74.698795% [62/83]\n",
      "\n",
      "Epoch 56/60\n",
      "-------------------------------\n",
      "\n",
      "Training Loss = 0.667739\tAccuracy on Training set = 73.939394% [244/330]\n",
      "\n",
      "Validation Loss = 0.669946\tAccuracy on Validation set = 74.698795% [62/83]\n",
      "\n",
      "Epoch 57/60\n",
      "-------------------------------\n",
      "\n",
      "Training Loss = 0.667933\tAccuracy on Training set = 76.363636% [252/330]\n",
      "\n",
      "Validation Loss = 0.669173\tAccuracy on Validation set = 74.698795% [62/83]\n",
      "\n",
      "Epoch 58/60\n",
      "-------------------------------\n",
      "\n",
      "Training Loss = 0.667531\tAccuracy on Training set = 73.939394% [244/330]\n",
      "\n",
      "Validation Loss = 0.667685\tAccuracy on Validation set = 74.698795% [62/83]\n",
      "\n",
      "Epoch 59/60\n",
      "-------------------------------\n",
      "\n",
      "Training Loss = 0.667489\tAccuracy on Training set = 75.454545% [249/330]\n",
      "\n",
      "Validation Loss = 0.666824\tAccuracy on Validation set = 77.108434% [64/83]\n",
      "\n",
      "Epoch 60/60\n",
      "-------------------------------\n",
      "\n",
      "Training Loss = 0.664286\tAccuracy on Training set = 75.151515% [248/330]\n",
      "\n",
      "Validation Loss = 0.666732\tAccuracy on Validation set = 75.903614% [63/83]\n",
      "\n",
      "Training has completed!\n"
     ]
    }
   ],
   "source": [
    "loss_fn   = nn.CrossEntropyLoss(weight=class_weights) #CrossEntropyLoss with class_weights.\n",
    "optimizer = torch.optim.SGD(model.parameters(),lr=0.001) \n",
    "nb_epochs = 60\n",
    "#Call the optimize function.\n",
    "train_losses, valid_losses = optimize(train_dataloader,valid_dataloader,model,loss_fn,optimizer,nb_epochs)\n"
   ]
  },
  {
   "cell_type": "markdown",
   "metadata": {},
   "source": [
    "### Save or load the model"
   ]
  },
  {
   "cell_type": "code",
   "execution_count": 23,
   "metadata": {},
   "outputs": [],
   "source": [
    "base_path_model_save = \"C:\\\\Users\\\\hsr30\\\\Documents\\\\minor-project\\\\disease-grading\\\\models\"\n"
   ]
  },
  {
   "cell_type": "code",
   "execution_count": 17,
   "metadata": {},
   "outputs": [],
   "source": [
    "# Save\n",
    "num_model = len(os.listdir(base_path_model_save))\n",
    "torch.save(model.state_dict(), os.path.join(base_path_model_save, f\"{num_model}-resnet34-tl.pth\"))"
   ]
  },
  {
   "cell_type": "markdown",
   "metadata": {},
   "source": [
    "### Load the model"
   ]
  },
  {
   "cell_type": "code",
   "execution_count": 16,
   "metadata": {},
   "outputs": [
    {
     "ename": "NameError",
     "evalue": "name 'base_path_model_save' is not defined",
     "output_type": "error",
     "traceback": [
      "\u001b[1;31m---------------------------------------------------------------------------\u001b[0m",
      "\u001b[1;31mNameError\u001b[0m                                 Traceback (most recent call last)",
      "\u001b[1;32mc:\\Users\\hsr30\\Documents\\minor-project\\disease-grading\\training-2.ipynb Cell 26\u001b[0m line \u001b[0;36m3\n\u001b[0;32m      <a href='vscode-notebook-cell:/c%3A/Users/hsr30/Documents/minor-project/disease-grading/training-2.ipynb#X34sZmlsZQ%3D%3D?line=0'>1</a>\u001b[0m \u001b[39m# Load\u001b[39;00m\n\u001b[0;32m      <a href='vscode-notebook-cell:/c%3A/Users/hsr30/Documents/minor-project/disease-grading/training-2.ipynb#X34sZmlsZQ%3D%3D?line=1'>2</a>\u001b[0m model_name \u001b[39m=\u001b[39m \u001b[39m'\u001b[39m\u001b[39m8-resnet34-tl.pth\u001b[39m\u001b[39m'\u001b[39m\n\u001b[1;32m----> <a href='vscode-notebook-cell:/c%3A/Users/hsr30/Documents/minor-project/disease-grading/training-2.ipynb#X34sZmlsZQ%3D%3D?line=2'>3</a>\u001b[0m model\u001b[39m.\u001b[39mload_state_dict(torch\u001b[39m.\u001b[39mload(os\u001b[39m.\u001b[39mpath\u001b[39m.\u001b[39mjoin(base_path_model_save, model_name), map_location\u001b[39m=\u001b[39mtorch\u001b[39m.\u001b[39mdevice(device)))\n",
      "\u001b[1;31mNameError\u001b[0m: name 'base_path_model_save' is not defined"
     ]
    }
   ],
   "source": [
    "# Load\n",
    "model_name = '8-resnet34-tl.pth'\n",
    "model.load_state_dict(torch.load(os.path.join(base_path_model_save, model_name), map_location=torch.device(device)))"
   ]
  },
  {
   "cell_type": "markdown",
   "metadata": {},
   "source": [
    "### Post training analysis"
   ]
  },
  {
   "cell_type": "code",
   "execution_count": 18,
   "metadata": {},
   "outputs": [
    {
     "data": {
      "image/png": "[encoded data removed]",
      "text/plain": [
       "<Figure size 640x480 with 1 Axes>"
      ]
     },
     "metadata": {},
     "output_type": "display_data"
    }
   ],
   "source": [
    "#Plot the graph of train_losses & valid_losses against nb_epochs.\n",
    "epochs = range(nb_epochs)\n",
    "plt.plot(epochs, train_losses, 'g', label='Training loss')\n",
    "plt.plot(epochs, valid_losses, 'b', label='validation loss')\n",
    "plt.title('Training and Validation loss')\n",
    "plt.xlabel('Epochs')\n",
    "plt.ylabel('Loss')\n",
    "plt.legend()\n",
    "plt.show()"
   ]
  },
  {
   "cell_type": "markdown",
   "metadata": {},
   "source": [
    "### Testing"
   ]
  },
  {
   "cell_type": "code",
   "execution_count": 17,
   "metadata": {},
   "outputs": [],
   "source": [
    "def test(dataloader,model):\n",
    "    '''\n",
    "    test function predicts the labels given an image batches.\n",
    "    \n",
    "    Args :\n",
    "         dataloader: DataLoader for the test_set.\n",
    "         model: Given an input produces an output by multiplying the input with the model weights.\n",
    "         \n",
    "    Returns :\n",
    "         List of predicted labels.\n",
    "    '''\n",
    "    \n",
    "    model.eval() #Sets the model for evaluation.\n",
    "    \n",
    "    labels = [] #List to store the predicted labels.\n",
    "    \n",
    "    with torch.no_grad():\n",
    "        \n",
    "        for batch,x in enumerate(dataloader):\n",
    "            \n",
    "            output = model(x.to(device))\n",
    "            \n",
    "            predictions = output.argmax(dim=1).cpu().detach().tolist() #Predicted labels for an image batch.\n",
    "            labels.extend(predictions)\n",
    "                \n",
    "    print('Testing has completed')\n",
    "            \n",
    "    return labels "
   ]
  },
  {
   "cell_type": "code",
   "execution_count": 31,
   "metadata": {},
   "outputs": [],
   "source": [
    "test_set = CustomDataset(test_df,os.path.join(base_path, 'final-testing'),image_transform = image_transform, train = False )\n",
    "\n",
    "test_dataloader = DataLoader(test_set, batch_size=16, shuffle=False) #DataLoader for test_set."
   ]
  },
  {
   "cell_type": "code",
   "execution_count": 32,
   "metadata": {},
   "outputs": [
    {
     "name": "stdout",
     "output_type": "stream",
     "text": [
      "Testing has completed\n",
      "Accuracy on test set = 66.666667% [68/102]\n"
     ]
    }
   ],
   "source": [
    "labels = test(test_dataloader,model)\n",
    "# accuracy\n",
    "correct = 0\n",
    "total = 0\n",
    "for i in range(len(labels)):\n",
    "    if labels[i] == test_df['diagnosis'][i]:\n",
    "        correct += 1\n",
    "    total += 1\n",
    "print(f'Accuracy on test set = {100*(correct/total):.6f}% [{correct}/{total}]') #Prints the Accuracy.   \n"
   ]
  },
  {
   "cell_type": "code",
   "execution_count": 34,
   "metadata": {},
   "outputs": [
    {
     "name": "stdout",
     "output_type": "stream",
     "text": [
      "[[20 19]\n",
      " [15 48]]\n"
     ]
    },
    {
     "name": "stderr",
     "output_type": "stream",
     "text": [
      "c:\\Users\\hsr30\\.conda\\envs\\deeplearning\\Lib\\site-packages\\sklearn\\utils\\validation.py:605: FutureWarning: is_sparse is deprecated and will be removed in a future version. Check `isinstance(dtype, pd.SparseDtype)` instead.\n",
      "  if is_sparse(pd_dtype):\n",
      "c:\\Users\\hsr30\\.conda\\envs\\deeplearning\\Lib\\site-packages\\sklearn\\utils\\validation.py:614: FutureWarning: is_sparse is deprecated and will be removed in a future version. Check `isinstance(dtype, pd.SparseDtype)` instead.\n",
      "  if is_sparse(pd_dtype) or not is_extension_array_dtype(pd_dtype):\n",
      "c:\\Users\\hsr30\\.conda\\envs\\deeplearning\\Lib\\site-packages\\sklearn\\utils\\validation.py:605: FutureWarning: is_sparse is deprecated and will be removed in a future version. Check `isinstance(dtype, pd.SparseDtype)` instead.\n",
      "  if is_sparse(pd_dtype):\n",
      "c:\\Users\\hsr30\\.conda\\envs\\deeplearning\\Lib\\site-packages\\sklearn\\utils\\validation.py:614: FutureWarning: is_sparse is deprecated and will be removed in a future version. Check `isinstance(dtype, pd.SparseDtype)` instead.\n",
      "  if is_sparse(pd_dtype) or not is_extension_array_dtype(pd_dtype):\n",
      "c:\\Users\\hsr30\\.conda\\envs\\deeplearning\\Lib\\site-packages\\sklearn\\utils\\validation.py:605: FutureWarning: is_sparse is deprecated and will be removed in a future version. Check `isinstance(dtype, pd.SparseDtype)` instead.\n",
      "  if is_sparse(pd_dtype):\n",
      "c:\\Users\\hsr30\\.conda\\envs\\deeplearning\\Lib\\site-packages\\sklearn\\utils\\validation.py:614: FutureWarning: is_sparse is deprecated and will be removed in a future version. Check `isinstance(dtype, pd.SparseDtype)` instead.\n",
      "  if is_sparse(pd_dtype) or not is_extension_array_dtype(pd_dtype):\n"
     ]
    },
    {
     "data": {
      "text/plain": [
       "<Axes: >"
      ]
     },
     "execution_count": 34,
     "metadata": {},
     "output_type": "execute_result"
    },
    {
     "data": {
      "image/png": "[encoded data removed]",
      "text/plain": [
       "<Figure size 640x480 with 2 Axes>"
      ]
     },
     "metadata": {},
     "output_type": "display_data"
    }
   ],
   "source": [
    "# confusion matrix\n",
    "from sklearn.metrics import confusion_matrix\n",
    "import seaborn as sns\n",
    "cm = confusion_matrix(test_df['diagnosis'], labels)\n",
    "print(cm)\n",
    "sns.heatmap(cm, annot=True, fmt=\"d\")\n"
   ]
  },
  {
   "cell_type": "markdown",
   "metadata": {},
   "source": [
    "### Predict individual images"
   ]
  },
  {
   "cell_type": "code",
   "execution_count": 43,
   "metadata": {},
   "outputs": [
    {
     "name": "stdout",
     "output_type": "stream",
     "text": [
      "[0]\n"
     ]
    }
   ],
   "source": [
    "image_path =  \"C:\\\\Users\\\\hsr30\\\\Documents\\\\minor-project\\\\datasets\\\\random-data\\\\15_left.jpeg\"\n",
    "image = Image.open(image_path)\n",
    "image = image_transform(image)\n",
    "image = image.unsqueeze(0)\n",
    "output = model(image.to(device))\n",
    "prediction = output.argmax(dim=1).cpu().detach().tolist()\n",
    "print(prediction)"
   ]
  },
  {
   "cell_type": "markdown",
   "metadata": {},
   "source": []
  }
 ],
 "metadata": {
  "kernelspec": {
   "display_name": "deeplearning",
   "language": "python",
   "name": "python3"
  },
  "language_info": {
   "codemirror_mode": {
    "name": "ipython",
    "version": 3
   },
   "file_extension": ".py",
   "mimetype": "text/x-python",
   "name": "python",
   "nbconvert_exporter": "python",
   "pygments_lexer": "ipython3",
   "version": "3.11.5"
  }
 },
 "nbformat": 4,
 "nbformat_minor": 2
}
